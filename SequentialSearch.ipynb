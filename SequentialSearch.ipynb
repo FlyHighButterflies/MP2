{
 "cells": [
  {
   "cell_type": "markdown",
   "metadata": {},
   "source": [
    "# Sequential Search Algorithms"
   ]
  },
  {
   "cell_type": "markdown",
   "metadata": {},
   "source": [
    "## SS Brute Force"
   ]
  },
  {
   "cell_type": "markdown",
   "metadata": {},
   "source": [
    "### Pseudocode"
   ]
  },
  {
   "cell_type": "markdown",
   "metadata": {},
   "source": [
    "FUNCTION generate_random_integers(n, min_val, max_val)\n",
    "    Initialize empty array result\n",
    "    FOR i FROM 1 TO n\n",
    "        Append random integer between min_val and max_val to result\n",
    "    END FOR\n",
    "    RETURN result\n",
    "END FUNCTION\n",
    "\n",
    "FUNCTION sequential_search_brute_force(arr, target)\n",
    "    FOR i FROM 0 TO length(arr) - 1\n",
    "        IF arr[i] EQUALS target THEN\n",
    "            RETURN i  // Return the index where target is found\n",
    "        END IF\n",
    "    END FOR\n",
    "    RETURN -1  // Target not found in the array\n",
    "END FUNCTION\n",
    "\n",
    "// Main procedure\n",
    "SET random_list = generate_random_integers(10, 1, 100)\n",
    "SET target = random element from random_list\n",
    "PRINT \"Target: \" + target\n",
    "PRINT \"List: \" + random_list\n",
    "\n",
    "SET index = sequential_search_brute_force(random_list, target)\n",
    "IF index not equals -1 THEN\n",
    "    PRINT \"Target found at index: \" + index\n",
    "ELSE\n",
    "    PRINT \"Target not found in the list.\"\n",
    "END IF"
   ]
  },
  {
   "cell_type": "markdown",
   "metadata": {},
   "source": [
    "### Implementation"
   ]
  },
  {
   "cell_type": "code",
   "execution_count": 7,
   "metadata": {},
   "outputs": [
    {
     "name": "stdout",
     "output_type": "stream",
     "text": [
      "Target: 6\n",
      "List: [98, 8, 22, 59, 6, 3, 10, 97, 36, 10]\n",
      "Target found at index: 4\n"
     ]
    }
   ],
   "source": [
    "import random\n",
    "\n",
    "def generate_random_integers(n, min_val=1, max_val=100):\n",
    "    return [random.randint(min_val, max_val) for _ in range(n)]\n",
    "\n",
    "def sequential_search_brute_force(arr, target):\n",
    "    for i in range(len(arr)):\n",
    "        if arr[i] == target:\n",
    "            return i\n",
    "    return -1\n",
    "\n",
    "random_list = generate_random_integers(10)\n",
    "target = random.choice(random_list)\n",
    "print(f\"Target: {target}\")\n",
    "print(f\"List: {random_list}\")\n",
    "index = sequential_search_brute_force(random_list, target)\n",
    "if index != -1:\n",
    "    print(f\"Target found at index: {index}\")\n",
    "else:\n",
    "    print(\"Target not found in the list.\")"
   ]
  },
  {
   "cell_type": "markdown",
   "metadata": {},
   "source": [
    "## SS using Hashmap & Array Indexing"
   ]
  },
  {
   "cell_type": "code",
   "execution_count": 6,
   "metadata": {},
   "outputs": [
    {
     "name": "stdout",
     "output_type": "stream",
     "text": [
      "Target: 24\n",
      "List: [96, 92, 19, 72, 51, 21, 42, 71, 24, 56, 38, 94, 14, 11, 91]\n",
      "Target found with hash: c2356069e9d1e79ca924378153cfbbfb4d4416b1f99d41a2940bfdb66c5319db\n"
     ]
    }
   ],
   "source": [
    "import hashlib\n",
    "import random\n",
    "\n",
    "def generate_random_integers(n, min_val=1, max_val=100):\n",
    "    return [random.randint(min_val, max_val) for _ in range(n)]\n",
    "\n",
    "class ArrayBucketHashMap:\n",
    "    def __init__(self, size=100):\n",
    "        self.size = size\n",
    "        self.buckets = [[] for _ in range(size)]\n",
    "\n",
    "    def _hash_index(self, key):\n",
    "        key_bytes = str(key).encode('utf-8')\n",
    "        hash_bytes = hashlib.sha256(key_bytes).digest()\n",
    "        hash_int = int.from_bytes(hash_bytes, 'big')\n",
    "        return hash_int % self.size\n",
    "\n",
    "    def _generate_value(self, key):\n",
    "        key_bytes = str(key).encode('utf-8')\n",
    "        return hashlib.sha256(key_bytes).hexdigest()\n",
    "\n",
    "    def insert(self, key):\n",
    "        value = self._generate_value(key)\n",
    "        index = self._hash_index(key)\n",
    "        bucket = self.buckets[index]\n",
    "\n",
    "        for i, (k, _) in enumerate(bucket):\n",
    "            if k == key:\n",
    "                # Update existing\n",
    "                bucket[i] = (key, value)  \n",
    "                return\n",
    "        # Insert new\n",
    "        bucket.append((key, value))  \n",
    "\n",
    "    def search(self, key):\n",
    "        index = self._hash_index(key)\n",
    "        bucket = self.buckets[index]\n",
    "\n",
    "        for k, v in bucket:\n",
    "            if k == key:\n",
    "                return v\n",
    "        return None\n",
    "\n",
    "    def __str__(self):\n",
    "        return str(self.buckets)\n",
    "    \n",
    "if __name__ == \"__main__\":\n",
    "    hmap = ArrayBucketHashMap(15)\n",
    "\n",
    "    # Insert random integers\n",
    "    random_list = generate_random_integers(15)\n",
    "    target = random.choice(random_list)\n",
    "\n",
    "    print(f\"Target: {target}\")\n",
    "    print(f\"List: {random_list}\")\n",
    "    for num in random_list:\n",
    "        hmap.insert(num)\n",
    "    index = hmap.search(target)\n",
    "    if index is not None:\n",
    "        print(f\"Target found with hash: {index}\")\n",
    "    else:\n",
    "        print(\"Target not found in the hash map.\")"
   ]
  }
 ],
 "metadata": {
  "kernelspec": {
   "display_name": ".venv",
   "language": "python",
   "name": "python3"
  },
  "language_info": {
   "codemirror_mode": {
    "name": "ipython",
    "version": 3
   },
   "file_extension": ".py",
   "mimetype": "text/x-python",
   "name": "python",
   "nbconvert_exporter": "python",
   "pygments_lexer": "ipython3",
   "version": "3.13.1"
  }
 },
 "nbformat": 4,
 "nbformat_minor": 2
}
