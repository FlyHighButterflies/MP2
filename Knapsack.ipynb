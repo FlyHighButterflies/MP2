{
 "cells": [
  {
   "cell_type": "raw",
   "id": "1570423b",
   "metadata": {
    "vscode": {
     "languageId": "raw"
    }
   },
   "source": [
    "FUNCTION knapsack(weights, values, capacity, numItems)\n",
    "    IF numItems == 0 OR capacity == 0 THEN\n",
    "        RETURN 0\n",
    "    END IF\n",
    "\n",
    "    IF weights[numItems - 1] > capacity THEN\n",
    "        RETURN knapsack(weights, values, capacity, numItems - 1)\n",
    "    END IF\n",
    "\n",
    "    include_value = values[numItems - 1] + \n",
    "                    knapsack(weights, values, \n",
    "                            capacity - weights[numItems - 1], \n",
    "                            numItems - 1)\n",
    "\n",
    "    exclude_value = knapsack(weights, values, capacity, numItems - 1)\n",
    "\n",
    "    RETURN MAX(include_value, exclude_value)\n",
    "END FUNCTION\n",
    "\n",
    "weights = [2, 3, 4, 5]\n",
    "values = [3, 4, 5, 6]\n",
    "capacity = 5\n",
    "numItems = LENGTH(weights)\n",
    "\n",
    "maxValue = knapsack(weights, values, capacity, numItems)\n",
    "PRINT \"Maximum value: \" + maxValue"
   ]
  },
  {
   "cell_type": "code",
   "execution_count": 9,
   "id": "4cfb602e",
   "metadata": {},
   "outputs": [
    {
     "name": "stdout",
     "output_type": "stream",
     "text": [
      "Maximum value: 7\n"
     ]
    }
   ],
   "source": [
    "# Brute-force Knapsack\n",
    "\n",
    "def knapsack(weights, values, capacity, items):\n",
    "    # Base case: no items left or no capacity\n",
    "    if items == 0 or capacity == 0:\n",
    "        return 0\n",
    "    \n",
    "    # If weight of the nth item is more than capacity, skip it\n",
    "    if weights[items - 1] > capacity:\n",
    "        return knapsack(weights, values, capacity, items - 1)\n",
    "    \n",
    "    # Include the nth item\n",
    "    includeItem = values[items - 1] + knapsack(weights, values, capacity - weights[items - 1], items - 1)\n",
    "    # Exclude the nth item\n",
    "    excludeItem = knapsack(weights, values, capacity, items - 1)\n",
    "\n",
    "    # Return the maximum of including or excluding the item\n",
    "    return max(includeItem, excludeItem)\n",
    "\n",
    "\n",
    "weights = [2, 3, 4, 5]\n",
    "values = [3, 4, 5, 6]\n",
    "capacity = 5\n",
    "items = len(weights)\n",
    "\n",
    "\n",
    "maxValue = knapsack(weights, values, capacity, items)\n",
    "print(f\"Maximum value: {maxValue}\")"
   ]
  },
  {
   "cell_type": "code",
   "execution_count": null,
   "id": "30f45656",
   "metadata": {},
   "outputs": [
    {
     "name": "stdout",
     "output_type": "stream",
     "text": [
      "Maximum value: 7\n"
     ]
    }
   ],
   "source": [
    "# Optimized Knapsack using Dynamic Programming\n",
    "\n",
    "def optimizedKnapsack(weights, values, capacity):\n",
    "    # Filter out items too heavy and sort by value-to-weight ratio\n",
    "    items = [(w, v) for w, v in zip(weights, values) if w <= capacity]\n",
    "    items.sort(key=lambda x: x[1] / x[0], reverse=True)  # Sort descending by value/weight\n",
    "    \n",
    "    # Initialize DP array where dp[w] = max value for capacity w\n",
    "    dp = [0] * (capacity + 1)\n",
    "\n",
    "    # Build DP table bottom-up\n",
    "    for weight, value in items:\n",
    "        # Update in reverse to avoid overwriting\n",
    "        for w in range(capacity, weight - 1, -1):\n",
    "            if value + dp[w - weight] > dp[w]:\n",
    "                dp[w] = value + dp[w - weight]\n",
    "    \n",
    "    return dp[capacity]\n",
    "\n",
    "\n",
    "weights = [2, 3, 4, 5]\n",
    "values = [3, 4, 5, 6]\n",
    "capacity = 5\n",
    "maxValue = optimizedKnapsack(weights, values, capacity)\n",
    "print(f\"Maximum value: {maxValue}\")  "
   ]
  }
 ],
 "metadata": {
  "kernelspec": {
   "display_name": "Python 3",
   "language": "python",
   "name": "python3"
  },
  "language_info": {
   "codemirror_mode": {
    "name": "ipython",
    "version": 3
   },
   "file_extension": ".py",
   "mimetype": "text/x-python",
   "name": "python",
   "nbconvert_exporter": "python",
   "pygments_lexer": "ipython3",
   "version": "3.12.10"
  }
 },
 "nbformat": 4,
 "nbformat_minor": 5
}
