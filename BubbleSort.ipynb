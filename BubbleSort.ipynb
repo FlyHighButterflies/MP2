{
 "cells": [
  {
   "cell_type": "raw",
   "id": "da6e4656",
   "metadata": {
    "vscode": {
     "languageId": "raw"
    }
   },
   "source": [
    "# Bubble Sort Brute Force Pseudo Code\n",
    "\n",
    "FUNCTION bubbleSort(array)\n",
    "    size = LENGTH(array)\n",
    "    \n",
    "    FOR index FROM 0 TO size-1 DO\n",
    "        FOR j FROM 0 TO size-index-2 DO\n",
    "            IF array[j] > array[j+1] THEN\n",
    "                SWAP array[j] WITH array[j+1]\n",
    "            END IF\n",
    "        END FOR\n",
    "    END FOR\n",
    "END FUNCTION\n",
    "\n",
    "sampleArray = [35, -5, -45, 64, 25, 12, -99, 22, 11]\n",
    "PRINT \"Original array:\", sampleArray\n",
    "bubbleSort(sampleArray)\n",
    "PRINT \"Sorted array:\", sampleArray"
   ]
  },
  {
   "cell_type": "code",
   "execution_count": null,
   "id": "d11cc0cb",
   "metadata": {},
   "outputs": [
    {
     "name": "stdout",
     "output_type": "stream",
     "text": [
      "Original array: [35, -5, -45, 64, 25, 12, -99, 22, 11]\n",
      "Sorted array: [-99, -45, -5, 11, 12, 22, 25, 35, 64]\n"
     ]
    }
   ],
   "source": [
    "# BruteForce Bubble Sort\n",
    "\n",
    "def bubbleSort(array):\n",
    "    size = len(array)  # Get the size of the array\n",
    "\n",
    "    # Outer loop for each element in the array\n",
    "    for index in range(size):\n",
    "        # Inner loop for comparing adjacent elements\n",
    "        for j in range(0, size - index - 1):\n",
    "            # Swap if the element found is greater than the next element\n",
    "            if array[j] > array[j + 1]:\n",
    "                array[j], array[j + 1] = array[j + 1], array[j]  \n",
    "\n",
    "# Sample array to sort\n",
    "sampleArray = [35, -5, -45, 64, 25, 12, -99, 22, 11]\n",
    "print(\"Original array:\", sampleArray)\n",
    "bubbleSort(sampleArray)  # Call the bubble sort function\n",
    "print(\"Sorted array:\", sampleArray)"
   ]
  },
  {
   "cell_type": "code",
   "execution_count": null,
   "id": "1d8a86c1",
   "metadata": {},
   "outputs": [
    {
     "name": "stdout",
     "output_type": "stream",
     "text": [
      "Original array: [35, -5, -45, 64, 25, 12, -99, 22, 11]\n",
      "Sorted array: [-99, -45, -5, 11, 12, 22, 25, 35, 64]\n"
     ]
    }
   ],
   "source": [
    "# Optimized Bubble Sort\n",
    "\n",
    "def optimizedBubbleSort(array):\n",
    "    size = len(array)  # Get the size of the array\n",
    "    lastPosition = size - 1  # Track the last position to check\n",
    "\n",
    "    # Outer loop for each pass\n",
    "    for index in range(size):\n",
    "        swapped = False  # Track if any swap happened in this pass\n",
    "        currentPosition = 0  # Track the last swap position\n",
    "\n",
    "        # Inner loop up to the last unsorted position\n",
    "        for j in range(lastPosition):\n",
    "            # Swap if the element is greater than the next\n",
    "            if array[j] > array[j + 1]:\n",
    "                array[j], array[j + 1] = array[j + 1], array[j]\n",
    "                swapped = True\n",
    "                currentPosition = j  # Update last swap position\n",
    "\n",
    "        lastPosition = currentPosition  # Reduce the range for next pass\n",
    "\n",
    "        # If no swaps happened, array is sorted\n",
    "        if not swapped:\n",
    "            break \n",
    "\n",
    "# Sample array to sort\n",
    "sampleArray = [35, -5, -45, 64, 25, 12, -99, 22, 11]\n",
    "print(\"Original array:\", sampleArray)\n",
    "optimizedBubbleSort(sampleArray) \n",
    "print(\"Sorted array:\", sampleArray)"
   ]
  }
 ],
 "metadata": {
  "kernelspec": {
   "display_name": "Python 3",
   "language": "python",
   "name": "python3"
  },
  "language_info": {
   "codemirror_mode": {
    "name": "ipython",
    "version": 3
   },
   "file_extension": ".py",
   "mimetype": "text/x-python",
   "name": "python",
   "nbconvert_exporter": "python",
   "pygments_lexer": "ipython3",
   "version": "3.12.10"
  }
 },
 "nbformat": 4,
 "nbformat_minor": 5
}
