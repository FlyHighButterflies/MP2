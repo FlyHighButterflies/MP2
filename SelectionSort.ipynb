{
 "cells": [
  {
   "cell_type": "raw",
   "id": "21930768",
   "metadata": {
    "vscode": {
     "languageId": "raw"
    }
   },
   "source": [
    "# Selection Sort Brute Force Pseudo Code\n",
    "\n",
    "FUNCTION selectionSort(array)\n",
    "    size = LENGTH(array)\n",
    "\n",
    "    FOR index FROM 0 TO size - 1 DO\n",
    "        min_index = index\n",
    "\n",
    "        FOR j FROM index + 1 TO size - 1 DO\n",
    "            IF array[j] < array[min_index] THEN\n",
    "                min_index = j\n",
    "            END IF\n",
    "        END FOR\n",
    "\n",
    "        IF min_index != index THEN\n",
    "            SWAP array[index] WITH array[min_index]\n",
    "        END IF\n",
    "    END FOR\n",
    "END FUNCTION\n",
    "\n",
    "DECLARE sampleArray AS [35, -5, -45, 64, 25, 12, -99, 22, 11]\n",
    "\n",
    "PRINT \"Original array: \", sampleArray\n",
    "CALL selectionSort(sampleArray)\n",
    "PRINT \"Sorted array: \", sampleArray\n",
    "\n"
   ]
  },
  {
   "cell_type": "code",
   "execution_count": null,
   "id": "fa7155bb",
   "metadata": {},
   "outputs": [
    {
     "name": "stdout",
     "output_type": "stream",
     "text": [
      "Original array: [35, -5, -45, 64, 25, 12, -99, 22, 11]\n",
      "Sorted array: [-99, -45, -5, 11, 12, 22, 25, 35, 64]\n"
     ]
    }
   ],
   "source": [
    "# BruteForce Selection Sort\n",
    "\n",
    "def selectionSort(array):\n",
    "    size = len(array)  # Get the size of the array\n",
    "\n",
    "    # Loop through each element in the array\n",
    "    for index in range(size):\n",
    "        min_index = index \n",
    "        # Find the index of the minimum element in the unsorted part\n",
    "        for j in range(index + 1, size):  \n",
    "            if array[j] < array[min_index]:\n",
    "                min_index = j\n",
    "        # Swap the found minimum element with the first unsorted element\n",
    "        array[index], array[min_index] = array[min_index], array[index]\n",
    "\n",
    "sampleArray = [35, -5, -45, 64, 25, 12, -99, 22, 11]\n",
    "print(\"Original array:\", sampleArray)\n",
    "selectionSort(sampleArray) \n",
    "print(\"Sorted array:\", sampleArray)"
   ]
  },
  {
   "cell_type": "code",
   "execution_count": null,
   "id": "5b2303e0",
   "metadata": {},
   "outputs": [
    {
     "name": "stdout",
     "output_type": "stream",
     "text": [
      "Original array: [35, -5, -45, 64, 25, 12, -99, 22, 11]\n",
      "Sorted array: [-99, -45, -5, 11, 12, 22, 25, 35, 64]\n"
     ]
    }
   ],
   "source": [
    "# Optimized Selection Sort\n",
    "\n",
    "def optimizedSelectionSort(array):\n",
    "    size = len(array)\n",
    "    # Loop only through half the array to find both min and max\n",
    "    for i in range(size // 2):\n",
    "        min_index = i      \n",
    "        max_index = i      \n",
    "\n",
    "        # Find the min and max in the unsorted part\n",
    "        for j in range(i, size - i):\n",
    "            if array[j] < array[min_index]:\n",
    "                min_index = j\n",
    "            elif array[j] > array[max_index]:\n",
    "                max_index = j\n",
    "\n",
    "        # Swap the found minimum element with the first unsorted element\n",
    "        array[i], array[min_index] = array[min_index], array[i]\n",
    "\n",
    "        # If max element was at the start, its index has changed after the swap\n",
    "        if max_index == i:\n",
    "            max_index = min_index\n",
    "\n",
    "        # Swap the found maximum element with the last unsorted element\n",
    "        array[size - i - 1], array[max_index] = array[max_index], array[size - i - 1]\n",
    "\n",
    "sampleArray = [35, -5, -45, 64, 25, 12, -99, 22, 11]\n",
    "print(\"Original array:\", sampleArray)\n",
    "optimizedSelectionSort(sampleArray)  \n",
    "print(\"Sorted array:\", sampleArray)"
   ]
  }
 ],
 "metadata": {
  "kernelspec": {
   "display_name": "Python 3",
   "language": "python",
   "name": "python3"
  },
  "language_info": {
   "codemirror_mode": {
    "name": "ipython",
    "version": 3
   },
   "file_extension": ".py",
   "mimetype": "text/x-python",
   "name": "python",
   "nbconvert_exporter": "python",
   "pygments_lexer": "ipython3",
   "version": "3.12.10"
  }
 },
 "nbformat": 4,
 "nbformat_minor": 5
}
